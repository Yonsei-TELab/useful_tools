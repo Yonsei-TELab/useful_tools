{
 "cells": [
  {
   "cell_type": "markdown",
   "metadata": {},
   "source": [
    "# Install"
   ]
  },
  {
   "cell_type": "code",
   "execution_count": 1,
   "metadata": {
    "execution": {
     "iopub.execute_input": "2021-05-10T05:30:42.110734Z",
     "iopub.status.busy": "2021-05-10T05:30:42.110734Z",
     "iopub.status.idle": "2021-05-10T05:30:42.125682Z",
     "shell.execute_reply": "2021-05-10T05:30:42.124676Z",
     "shell.execute_reply.started": "2021-05-10T05:30:42.110734Z"
    }
   },
   "outputs": [],
   "source": [
    "#!pip install pyperclip\n",
    "#!pip install pyautogui"
   ]
  },
  {
   "cell_type": "markdown",
   "metadata": {},
   "source": [
    "# Imports"
   ]
  },
  {
   "cell_type": "code",
   "execution_count": 2,
   "metadata": {
    "execution": {
     "iopub.execute_input": "2021-05-10T05:30:42.126647Z",
     "iopub.status.busy": "2021-05-10T05:30:42.125682Z",
     "iopub.status.idle": "2021-05-10T05:30:42.670636Z",
     "shell.execute_reply": "2021-05-10T05:30:42.670636Z",
     "shell.execute_reply.started": "2021-05-10T05:30:42.126647Z"
    },
    "tags": []
   },
   "outputs": [],
   "source": [
    "import pyperclip #> Copy & paste Korean sentence\n",
    "import pyautogui as ptg #> Macro\n",
    "import os\n",
    "import numpy as np\n",
    "import time"
   ]
  },
  {
   "cell_type": "markdown",
   "metadata": {},
   "source": [
    "# Settings"
   ]
  },
  {
   "cell_type": "markdown",
   "metadata": {},
   "source": [
    "## Get SSAM Button coordinates\n",
    "* **`ptg.position`** : It gets coordinates of location of mouse cursor."
   ]
  },
  {
   "cell_type": "code",
   "execution_count": 3,
   "metadata": {
    "execution": {
     "iopub.execute_input": "2021-05-10T05:30:42.670636Z",
     "iopub.status.busy": "2021-05-10T05:30:42.670636Z",
     "iopub.status.idle": "2021-05-10T05:30:42.685926Z",
     "shell.execute_reply": "2021-05-10T05:30:42.685926Z",
     "shell.execute_reply.started": "2021-05-10T05:30:42.670636Z"
    },
    "tags": []
   },
   "outputs": [
    {
     "data": {
      "text/plain": [
       "Point(x=292, y=374)"
      ]
     },
     "execution_count": 3,
     "metadata": {},
     "output_type": "execute_result"
    }
   ],
   "source": [
    "ptg.position()"
   ]
  },
  {
   "cell_type": "markdown",
   "metadata": {},
   "source": [
    "## Set coordinates of SSAM Buttons"
   ]
  },
  {
   "cell_type": "code",
   "execution_count": 4,
   "metadata": {
    "execution": {
     "iopub.execute_input": "2021-05-10T05:30:42.686895Z",
     "iopub.status.busy": "2021-05-10T05:30:42.686895Z",
     "iopub.status.idle": "2021-05-10T05:30:42.701915Z",
     "shell.execute_reply": "2021-05-10T05:30:42.701915Z",
     "shell.execute_reply.started": "2021-05-10T05:30:42.686895Z"
    },
    "tags": []
   },
   "outputs": [],
   "source": [
    "configuration_tab = (1968, 42) # SSAM configuration Tab\n",
    "add_button = (2034, 155) # add Button\n",
    "file_write = (2813, 742) # Input window of file name(파일이름 입력창)\n",
    "open_button = (3348, 778) # open button\n",
    "analyze_button = (2014, 474) # analyze button\n",
    "\n",
    "analyze_complete = (2926, 569) # Close 'analyze complete' window\n",
    "\n",
    "summary_tab = (2103, 47) # Summary Tab\n",
    "export_csv_button = (2089, 608) # Export to csv file button\n",
    "save_csv_button = (3322, 775) # Save to CSV button\n",
    "\n",
    "select_file = (2343, 106) # File name list\n",
    "delete_button = (2025, 187) # Delete button"
   ]
  },
  {
   "cell_type": "markdown",
   "metadata": {},
   "source": [
    "# Set .trj File Names"
   ]
  },
  {
   "cell_type": "code",
   "execution_count": 5,
   "metadata": {
    "execution": {
     "iopub.execute_input": "2021-05-10T05:30:42.702951Z",
     "iopub.status.busy": "2021-05-10T05:30:42.702951Z",
     "iopub.status.idle": "2021-05-10T05:30:42.717510Z",
     "shell.execute_reply": "2021-05-10T05:30:42.717510Z",
     "shell.execute_reply.started": "2021-05-10T05:30:42.702951Z"
    },
    "tags": []
   },
   "outputs": [],
   "source": [
    "length = [str(600 + i * 50) + 'm' for i in range(9)]\n",
    "\n",
    "num = []\n",
    "for i in range(1, 57):\n",
    "    if i < 10:\n",
    "        num.append('00' + str(i))\n",
    "    else:\n",
    "        num.append('0' + str(i))"
   ]
  },
  {
   "cell_type": "code",
   "execution_count": 6,
   "metadata": {
    "execution": {
     "iopub.execute_input": "2021-05-10T05:30:42.717510Z",
     "iopub.status.busy": "2021-05-10T05:30:42.717510Z",
     "iopub.status.idle": "2021-05-10T05:30:42.733300Z",
     "shell.execute_reply": "2021-05-10T05:30:42.733300Z",
     "shell.execute_reply.started": "2021-05-10T05:30:42.717510Z"
    },
    "tags": []
   },
   "outputs": [
    {
     "data": {
      "text/plain": [
       "['600m', '650m', '700m', '750m', '800m', '850m', '900m', '950m', '1000m']"
      ]
     },
     "execution_count": 6,
     "metadata": {},
     "output_type": "execute_result"
    }
   ],
   "source": [
    "length"
   ]
  },
  {
   "cell_type": "code",
   "execution_count": 7,
   "metadata": {
    "execution": {
     "iopub.execute_input": "2021-05-10T05:30:42.734296Z",
     "iopub.status.busy": "2021-05-10T05:30:42.734296Z",
     "iopub.status.idle": "2021-05-10T05:30:42.749282Z",
     "shell.execute_reply": "2021-05-10T05:30:42.749282Z",
     "shell.execute_reply.started": "2021-05-10T05:30:42.734296Z"
    },
    "tags": []
   },
   "outputs": [],
   "source": [
    "f = []\n",
    "\n",
    "for l in length:\n",
    "    for n in num:\n",
    "        file_name = f'낙동jc_allpc_{l}_{n}.trj' #> .trj file names are automately created\n",
    "        f.append(file_name)"
   ]
  },
  {
   "cell_type": "code",
   "execution_count": 8,
   "metadata": {
    "execution": {
     "iopub.execute_input": "2021-05-10T05:30:42.750254Z",
     "iopub.status.busy": "2021-05-10T05:30:42.750254Z",
     "iopub.status.idle": "2021-05-10T05:30:42.764846Z",
     "shell.execute_reply": "2021-05-10T05:30:42.764846Z",
     "shell.execute_reply.started": "2021-05-10T05:30:42.750254Z"
    },
    "tags": []
   },
   "outputs": [
    {
     "data": {
      "text/plain": [
       "504"
      ]
     },
     "execution_count": 8,
     "metadata": {},
     "output_type": "execute_result"
    }
   ],
   "source": [
    "len(f)"
   ]
  },
  {
   "cell_type": "code",
   "execution_count": 10,
   "metadata": {
    "execution": {
     "iopub.execute_input": "2021-05-10T05:30:48.232080Z",
     "iopub.status.busy": "2021-05-10T05:30:48.232080Z",
     "iopub.status.idle": "2021-05-10T05:30:48.248012Z",
     "shell.execute_reply": "2021-05-10T05:30:48.248012Z",
     "shell.execute_reply.started": "2021-05-10T05:30:48.232080Z"
    },
    "tags": []
   },
   "outputs": [
    {
     "data": {
      "text/plain": [
       "'낙동jc_allpc_600m_030.trj'"
      ]
     },
     "execution_count": 10,
     "metadata": {},
     "output_type": "execute_result"
    }
   ],
   "source": [
    "f[29]"
   ]
  },
  {
   "cell_type": "markdown",
   "metadata": {},
   "source": [
    "# RUN! Automately Create SSAM Result Files"
   ]
  },
  {
   "cell_type": "code",
   "execution_count": 11,
   "metadata": {
    "execution": {
     "iopub.execute_input": "2021-05-10T05:30:55.501103Z",
     "iopub.status.busy": "2021-05-10T05:30:55.501103Z",
     "iopub.status.idle": "2021-05-10T08:58:54.621854Z",
     "shell.execute_reply": "2021-05-10T08:58:54.621789Z",
     "shell.execute_reply.started": "2021-05-10T05:30:55.501103Z"
    },
    "tags": []
   },
   "outputs": [],
   "source": [
    "for i in range(len(f)):\n",
    "    # Click : Configuration Tab\n",
    "    ptg.click(x=configuration_tab[0], y=configuration_tab[1], clicks=1, button='left')\n",
    "    # Click : ADD Button\n",
    "    ptg.click(x=add_button[0], y=add_button[1], clicks=1, button='left')\n",
    "    \n",
    "    time.sleep(1)\n",
    "    \n",
    "    # Click : File name input window\n",
    "    ptg.click(x=file_write[0], y=file_write[1], clicks=1, button='left')\n",
    "    # Go to C: \n",
    "    ptg.typewrite('C:', 0.1)\n",
    "    ptg.press('enter')\n",
    "    #> Click : File name input window\n",
    "    ptg.click(x=file_write[0], y=file_write[1], clicks=1, button='left')\n",
    "    ptg.keyDown('backspace')\n",
    "    ptg.keyUp('backspace')\n",
    "    \n",
    "    # Go to E: - where .trj files were saved in.\n",
    "    ptg.typewrite('E:', 0.1)\n",
    "    ptg.press('enter')\n",
    "    \n",
    "    # Click : File name input window\n",
    "    ptg.click(x=file_write[0], y=file_write[1], clicks=1, button='left')\n",
    "    ptg.keyDown('backspace')\n",
    "    ptg.keyUp('backspace')\n",
    "\n",
    "    # Go to the folder : Put your folder name('[엇갈림구간] VISSIM traj 파일' ) and press enter\n",
    "    pyperclip.copy('[엇갈림구간] VISSIM traj 파일')\n",
    "    ptg.hotkey(\"ctrl\", \"v\")\n",
    "    ptg.press('enter')\n",
    "    \n",
    "    # Click : File name input window\n",
    "    ptg.click(x=file_write[0], y=file_write[1], clicks=1, button='left')\n",
    "    ptg.keyDown('backspace')\n",
    "    ptg.keyUp('backspace')\n",
    "    \n",
    "    # Go to the folder : Put your folder name('A_1_낙동JC') and press enter\n",
    "    pyperclip.copy('A_1_낙동JC')\n",
    "    ptg.hotkey(\"ctrl\", \"v\")\n",
    "    ptg.press('enter')\n",
    "    \n",
    "    # Click : File name input window\n",
    "    ptg.click(x=file_write[0], y=file_write[1], clicks=1, button='left')\n",
    "    ptg.keyDown('backspace')\n",
    "    ptg.keyUp('backspace')\n",
    "\n",
    "    # Put your file name\n",
    "    pyperclip.copy(f[i])\n",
    "    ptg.hotkey(\"ctrl\", \"v\")\n",
    "\n",
    "    #> Click : Open button\n",
    "    ptg.click(x=open_button[0], y=open_button[1], clicks=1, button='left')\n",
    "    \n",
    "    time.sleep(1) #> Time Sleep : It depends on your computer environment. After some trial and error, you may have to put in other stable values.\n",
    "\n",
    "    # Click : Analyze button\n",
    "    ptg.click(x=analyze_button[0], y=analyze_button[1], clicks=1, button='left')\n",
    "\n",
    "    time.sleep(15) #> Time Sleep : It depends on your computer environment. After some trial and error, you may have to put in other stable values.\n",
    "\n",
    "    # Click : Analysis complete Window\n",
    "    #> Time Sleep : It depends on your computer environment. After some trial and error, you may have to put in other stable values.\n",
    "    ptg.click(x=analyze_complete[0], y=analyze_complete[1], clicks=3, button='left')\n",
    "    time.sleep(1)\n",
    "    ptg.click(x=analyze_complete[0], y=analyze_complete[1], clicks=3, button='left')\n",
    "    time.sleep(1)\n",
    "\n",
    "    #> Click : Summary tab\n",
    "    ptg.click(x=summary_tab[0], y=summary_tab[1], clicks=1, button='left')\n",
    "\n",
    "    # Click : Export to csv file button\n",
    "    ptg.click(x=export_csv_button[0], y=export_csv_button[1], clicks=1, button='left')\n",
    "    \n",
    "    time.sleep(1) \n",
    "\n",
    "    #> Click : Save to csv button\n",
    "    ptg.click(x=save_csv_button[0], y=save_csv_button[1], clicks=1, button='left')\n",
    "    \n",
    "    time.sleep(1)\n",
    "\n",
    "    #> Click : Configuration tab\n",
    "    ptg.click(x=configuration_tab[0], y=configuration_tab[1], clicks=1, button='left')\n",
    "\n",
    "    #> Click : Select file\n",
    "    ptg.click(x=select_file[0], y=select_file[1], clicks=1, button='left')\n",
    "\n",
    "    #> Click : Delete button\n",
    "    ptg.click(x=delete_button[0], y=delete_button[1], clicks=3, button='left')\n",
    "    \n",
    "    time.sleep(1)"
   ]
  }
 ],
 "metadata": {
  "kernelspec": {
   "display_name": "Python 3",
   "language": "python",
   "name": "python3"
  },
  "language_info": {
   "codemirror_mode": {
    "name": "ipython",
    "version": 3
   },
   "file_extension": ".py",
   "mimetype": "text/x-python",
   "name": "python",
   "nbconvert_exporter": "python",
   "pygments_lexer": "ipython3",
   "version": "3.8.5"
  }
 },
 "nbformat": 4,
 "nbformat_minor": 4
}
