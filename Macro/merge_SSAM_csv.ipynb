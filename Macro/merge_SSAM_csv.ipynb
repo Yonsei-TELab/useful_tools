{
 "cells": [
  {
   "cell_type": "markdown",
   "metadata": {},
   "source": [
    "# Imports"
   ]
  },
  {
   "cell_type": "code",
   "execution_count": 1,
   "metadata": {
    "execution": {
     "iopub.execute_input": "2021-05-10T09:03:58.492272Z",
     "iopub.status.busy": "2021-05-10T09:03:58.492272Z",
     "iopub.status.idle": "2021-05-10T09:04:02.633477Z",
     "shell.execute_reply": "2021-05-10T09:04:02.633477Z",
     "shell.execute_reply.started": "2021-05-10T09:03:58.492272Z"
    },
    "tags": []
   },
   "outputs": [],
   "source": [
    "import pandas as pd\n",
    "import os"
   ]
  },
  {
   "cell_type": "markdown",
   "metadata": {},
   "source": [
    "# Set File Names"
   ]
  },
  {
   "cell_type": "markdown",
   "metadata": {},
   "source": [
    "## Set Length"
   ]
  },
  {
   "cell_type": "code",
   "execution_count": 2,
   "metadata": {
    "execution": {
     "iopub.execute_input": "2021-05-10T09:04:02.634511Z",
     "iopub.status.busy": "2021-05-10T09:04:02.634511Z",
     "iopub.status.idle": "2021-05-10T09:04:02.648468Z",
     "shell.execute_reply": "2021-05-10T09:04:02.648468Z",
     "shell.execute_reply.started": "2021-05-10T09:04:02.634511Z"
    },
    "tags": []
   },
   "outputs": [
    {
     "data": {
      "text/plain": [
       "['50m',\n",
       " '100m',\n",
       " '150m',\n",
       " '200m',\n",
       " '250m',\n",
       " '300m',\n",
       " '350m',\n",
       " '400m',\n",
       " '450m',\n",
       " '500m',\n",
       " '550m',\n",
       " '600m',\n",
       " '650m',\n",
       " '700m',\n",
       " '750m',\n",
       " '800m',\n",
       " '850m',\n",
       " '900m',\n",
       " '950m',\n",
       " '1000m']"
      ]
     },
     "execution_count": 2,
     "metadata": {},
     "output_type": "execute_result"
    }
   ],
   "source": [
    "length = [str(50 + 50 * i) + 'm' for i in range(20)]\n",
    "length"
   ]
  },
  {
   "cell_type": "markdown",
   "metadata": {},
   "source": [
    "## Set File Numbers"
   ]
  },
  {
   "cell_type": "code",
   "execution_count": 6,
   "metadata": {
    "execution": {
     "iopub.execute_input": "2021-04-08T10:37:17.396857Z",
     "iopub.status.busy": "2021-04-08T10:37:17.396857Z",
     "iopub.status.idle": "2021-04-08T10:37:17.409822Z",
     "shell.execute_reply": "2021-04-08T10:37:17.409822Z",
     "shell.execute_reply.started": "2021-04-08T10:37:17.396857Z"
    }
   },
   "outputs": [
    {
     "name": "stdout",
     "output_type": "stream",
     "text": [
      "['000', '001', '002', '003', '004', '005', '006', '007', '008', '009', '010', '011', '012', '013', '014', '015', '016', '017', '018', '019', '020', '021', '022', '023', '024', '025', '026', '027', '028', '029', '030', '031', '032', '033', '034', '035', '036', '037', '038', '039', '040', '041', '042', '043', '044', '045', '046', '047', '048', '049', '050', '051', '052', '053', '054', '055', '056', '057', '058', '059', '060', '061', '062', '063', '064', '065', '066', '067', '068', '069', '070', '071', '072', '073', '074', '075', '076']\n"
     ]
    }
   ],
   "source": [
    "num = []\n",
    "\n",
    "for i in range(77):\n",
    "    if i < 10:\n",
    "        num.append('00' + str(i))\n",
    "    elif i >= 10:\n",
    "        num.append('0' + str(i))\n",
    "        \n",
    "print(num)"
   ]
  },
  {
   "cell_type": "markdown",
   "metadata": {},
   "source": [
    "# RUN! Merge SSAM .csv files"
   ]
  },
  {
   "cell_type": "code",
   "execution_count": 8,
   "metadata": {
    "execution": {
     "iopub.execute_input": "2021-04-06T02:22:24.521473Z",
     "iopub.status.busy": "2021-04-06T02:22:24.521473Z",
     "iopub.status.idle": "2021-04-06T02:22:41.570566Z",
     "shell.execute_reply": "2021-04-06T02:22:41.570566Z",
     "shell.execute_reply.started": "2021-04-06T02:22:24.521473Z"
    }
   },
   "outputs": [],
   "source": [
    "length = [str(50 + 50 * i) + 'm' for i in range(20)] #> Length of the highway cross section\n",
    "\n",
    "dir_path = 'C:/Users/User/Desktop/210425-220000_cross-section/vissim_to_ssam_excel_rename/B-2_daegam' #> File Directory\n",
    "\n",
    "df_list = []\n",
    "\n",
    "for l in length:\n",
    "    for n1 in num:\n",
    "        for n2 in num:\n",
    "            file_name = f'대감jc(하행)_allpc_{l}_{n1}-{n2}_summary.csv'\n",
    "            file_path = os.path.join(dir_path, file_name)\n",
    "            \n",
    "            if os.path.isfile(file_path): #> If the file exist\n",
    "                df_list.append(pd.read_csv(file_path, encoding='cp949'))\n",
    "                df = pd.concat(df_list) #> Merge DataFrames"
   ]
  },
  {
   "cell_type": "code",
   "execution_count": null,
   "metadata": {},
   "outputs": [],
   "source": [
    "merged_file = 'sam2.csv' #> Name of the file that will be saved"
   ]
  },
  {
   "cell_type": "code",
   "execution_count": 9,
   "metadata": {
    "execution": {
     "iopub.execute_input": "2021-04-06T02:22:44.221456Z",
     "iopub.status.busy": "2021-04-06T02:22:44.220480Z",
     "iopub.status.idle": "2021-04-06T02:22:44.306533Z",
     "shell.execute_reply": "2021-04-06T02:22:44.306533Z",
     "shell.execute_reply.started": "2021-04-06T02:22:44.221456Z"
    }
   },
   "outputs": [],
   "source": [
    "df.to_csv(merged_file, encoding='cp949') # Save merged file to csv"
   ]
  }
 ],
 "metadata": {
  "kernelspec": {
   "display_name": "Python 3",
   "language": "python",
   "name": "python3"
  },
  "language_info": {
   "codemirror_mode": {
    "name": "ipython",
    "version": 3
   },
   "file_extension": ".py",
   "mimetype": "text/x-python",
   "name": "python",
   "nbconvert_exporter": "python",
   "pygments_lexer": "ipython3",
   "version": "3.8.5"
  }
 },
 "nbformat": 4,
 "nbformat_minor": 4
}
