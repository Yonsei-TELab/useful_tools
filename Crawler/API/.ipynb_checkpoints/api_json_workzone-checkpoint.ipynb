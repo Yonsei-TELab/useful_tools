{
 "cells": [
  {
   "cell_type": "markdown",
   "metadata": {},
   "source": [
    "# Info : WorkzoneAPI → JSON → CSV\n",
    "* 한국도로공사 고속도로 공공데이터 포털 : 공사 및 도로 차단 계획\n",
    "* 메일을 통해 인증키(key_encoding)를 받아야 합니다.\n",
    "* http://data.ex.co.kr/openapi/basicinfo/openApiInfoM?apiId=0613&pn=-1"
   ]
  },
  {
   "cell_type": "markdown",
   "metadata": {},
   "source": [
    "# Imports"
   ]
  },
  {
   "cell_type": "code",
   "execution_count": 18,
   "metadata": {
    "execution": {
     "iopub.execute_input": "2021-07-02T07:16:40.663691Z",
     "iopub.status.busy": "2021-07-02T07:16:40.663691Z",
     "iopub.status.idle": "2021-07-02T07:16:40.682204Z",
     "shell.execute_reply": "2021-07-02T07:16:40.681207Z",
     "shell.execute_reply.started": "2021-07-02T07:16:40.663691Z"
    },
    "tags": []
   },
   "outputs": [],
   "source": [
    "import requests\n",
    "import urllib.request\n",
    "from urllib import parse\n",
    "import json \n",
    "import pandas as pd \n",
    "from pandas.io.json import json_normalize\n",
    "from datetime import datetime\n",
    "import os"
   ]
  },
  {
   "cell_type": "markdown",
   "metadata": {},
   "source": [
    "# Define Functions"
   ]
  },
  {
   "cell_type": "code",
   "execution_count": 87,
   "metadata": {
    "execution": {
     "iopub.execute_input": "2021-07-02T07:58:44.121578Z",
     "iopub.status.busy": "2021-07-02T07:58:44.121578Z",
     "iopub.status.idle": "2021-07-02T07:58:44.140955Z",
     "shell.execute_reply": "2021-07-02T07:58:44.140955Z",
     "shell.execute_reply.started": "2021-07-02T07:58:44.121578Z"
    },
    "tags": []
   },
   "outputs": [],
   "source": [
    "def api_json_to_csv(api_name:str, key:str, routeCd:str, starts_at:str, ends_at:str, numOfRows:int, pageNo:int, download_dir:str) -> None:\n",
    "    for page in rage(pageNo):\n",
    "        params = {'key':key, 'type':'json', 'routeCd':route, 'cnstnStrtDates':starts_at, 'cnstnEndDates':ends_at, 'numOfRows':numOfRows, 'pageNo':page}\n",
    "        params_encode = parse.urlencode(params)\n",
    "        url = req_url + '?' + params_encode\n",
    "        \n",
    "        response = urllib.request.urlopen(url)\n",
    "        json_str = response.read().decode(\"utf-8\")\n",
    "        json_obj = json.loads(json_str)\n",
    "        \n",
    "        df = pd.json_normalize(json_obj['data']['list'])\n",
    "        \n",
    "        if df.shape[1] == 0 :\n",
    "            break\n",
    "        \n",
    "        else :\n",
    "            execute_date=datetime.today().strftime(\"%y%m%d\")\n",
    "        \n",
    "            if (page >= 0 & page <= 9) :\n",
    "                file_number = '000' + str(page)\n",
    "            elif (page >= 10 & page <= 99) :\n",
    "                file_number = '00' + str(page)\n",
    "            elif (page >= 100 & page <= 999) :\n",
    "                file_number = '0' + str(page)\n",
    "            else :\n",
    "                file_number = str(page)\n",
    "                \n",
    "            file_name = f'{api_name}_{file_number}_{execute_date}.csv'\n",
    "            file_dir = os.path.join(download_dir, file_name)\n",
    "        \n",
    "            pd.to_save(df, file_dir)\n",
    "            \n",
    "            print(df)\n",
    "        \n",
    "            return None"
   ]
  },
  {
   "cell_type": "markdown",
   "metadata": {},
   "source": [
    "# RUN : Download JSON & Save to CSV"
   ]
  },
  {
   "cell_type": "markdown",
   "metadata": {},
   "source": [
    "limtPlanDates\tstring\t제한계획일자\n",
    "limtPlanSeq\tstring\t제한계획일련번호\n",
    "hqdrNm\tstring\t본부명\n",
    "mtnofKorNm\tstring\t지사명\n",
    "cnstnStrtDates\tstring\t공사시작일자\n",
    "cnstnStrtTimes\tstring\t공사시작시간\n",
    "cnstnEndDates\tstring\t공사종료일자\n",
    "cnstnEndTimes\tstring\t공사종료시간\n",
    "routeCd\tstring\t노선코드\n",
    "useRotnm\tstring\t차단노선구간\n",
    "icNm\tstring\t차단구간명\n",
    "endBlcPntVal\tstring\t종료차단지점값\n",
    "strtBlcPntVal\tstring\t시작차단지점값\n",
    "blcCtnt\tstring\t차단내용\n",
    "totCrgwCnt\tstring\t총차로수\n",
    "blcForm\tstring\t차단형태\n",
    "cnstnCtnt\tstring\t공사내용\n",
    "numOfRows\tstring\t한 페이지당 출력건수\n",
    "pageNo\tstring\t출력 페이지번호"
   ]
  },
  {
   "cell_type": "code",
   "execution_count": 40,
   "metadata": {
    "execution": {
     "iopub.execute_input": "2021-07-02T07:21:07.926420Z",
     "iopub.status.busy": "2021-07-02T07:21:07.926420Z",
     "iopub.status.idle": "2021-07-02T07:21:07.935408Z",
     "shell.execute_reply": "2021-07-02T07:21:07.934404Z",
     "shell.execute_reply.started": "2021-07-02T07:21:07.926420Z"
    },
    "tags": []
   },
   "outputs": [],
   "source": [
    "req_url = 'http://data.ex.co.kr/openapi/safeDriving/construction'"
   ]
  },
  {
   "cell_type": "code",
   "execution_count": 41,
   "metadata": {
    "execution": {
     "iopub.execute_input": "2021-07-02T07:21:10.556431Z",
     "iopub.status.busy": "2021-07-02T07:21:10.556431Z",
     "iopub.status.idle": "2021-07-02T07:21:10.572376Z",
     "shell.execute_reply": "2021-07-02T07:21:10.571364Z",
     "shell.execute_reply.started": "2021-07-02T07:21:10.556431Z"
    },
    "tags": []
   },
   "outputs": [],
   "source": [
    "key = 6416260179"
   ]
  },
  {
   "cell_type": "code",
   "execution_count": 42,
   "metadata": {
    "execution": {
     "iopub.execute_input": "2021-07-02T07:21:11.613881Z",
     "iopub.status.busy": "2021-07-02T07:21:11.613881Z",
     "iopub.status.idle": "2021-07-02T07:21:11.627815Z",
     "shell.execute_reply": "2021-07-02T07:21:11.626817Z",
     "shell.execute_reply.started": "2021-07-02T07:21:11.613881Z"
    },
    "tags": []
   },
   "outputs": [],
   "source": [
    "starts_at = '20210630'\n",
    "ends_at = '20210730'\n",
    "numOfRows = 100\n",
    "pageNo = 1"
   ]
  },
  {
   "cell_type": "code",
   "execution_count": 86,
   "metadata": {
    "execution": {
     "iopub.execute_input": "2021-07-02T07:57:40.545607Z",
     "iopub.status.busy": "2021-07-02T07:57:40.545607Z",
     "iopub.status.idle": "2021-07-02T07:57:40.562537Z",
     "shell.execute_reply": "2021-07-02T07:57:40.562537Z",
     "shell.execute_reply.started": "2021-07-02T07:57:40.545607Z"
    },
    "tags": []
   },
   "outputs": [
    {
     "data": {
      "text/plain": [
       "19"
      ]
     },
     "execution_count": 86,
     "metadata": {},
     "output_type": "execute_result"
    }
   ],
   "source": [
    "api_json_to_csv(api_name = api_name, key = key,\n",
    "                starts_at = starts_at, ends_at = ends_at,\n",
    "                numOfRows = numOfRows, pageNo = pageNo, download_dir = download_dir)"
   ]
  }
 ],
 "metadata": {
  "kernelspec": {
   "display_name": "Python 3",
   "language": "python",
   "name": "python3"
  },
  "language_info": {
   "codemirror_mode": {
    "name": "ipython",
    "version": 3
   },
   "file_extension": ".py",
   "mimetype": "text/x-python",
   "name": "python",
   "nbconvert_exporter": "python",
   "pygments_lexer": "ipython3",
   "version": "3.8.5"
  }
 },
 "nbformat": 4,
 "nbformat_minor": 4
}
