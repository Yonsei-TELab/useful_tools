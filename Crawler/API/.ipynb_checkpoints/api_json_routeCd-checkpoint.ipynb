{
 "cells": [
  {
   "cell_type": "markdown",
   "metadata": {},
   "source": [
    "# Info : routeCd API → JSON → CSV\n",
    "* 한국도로공사 고속도로 공공데이터 포털 : 공간정보노선현황\n",
    "* 메일을 통해 인증키(key_encoding)를 받아야 합니다.\n",
    "* http://data.ex.co.kr/openapi/basicinfo/openApiInfoM?apiId=0613&pn=-1"
   ]
  },
  {
   "cell_type": "markdown",
   "metadata": {},
   "source": [
    "# Imports"
   ]
  },
  {
   "cell_type": "code",
   "execution_count": 108,
   "metadata": {
    "execution": {
     "iopub.execute_input": "2021-07-02T08:47:16.611433Z",
     "iopub.status.busy": "2021-07-02T08:47:16.611433Z",
     "iopub.status.idle": "2021-07-02T08:47:16.624398Z",
     "shell.execute_reply": "2021-07-02T08:47:16.624398Z",
     "shell.execute_reply.started": "2021-07-02T08:47:16.611433Z"
    },
    "tags": []
   },
   "outputs": [],
   "source": [
    "import requests\n",
    "import urllib.request\n",
    "from urllib import parse\n",
    "import json \n",
    "import pandas as pd \n",
    "from pandas.io.json import json_normalize\n",
    "from datetime import datetime\n",
    "import os"
   ]
  },
  {
   "cell_type": "markdown",
   "metadata": {},
   "source": [
    "# Define Functions"
   ]
  },
  {
   "cell_type": "code",
   "execution_count": 121,
   "metadata": {
    "execution": {
     "iopub.execute_input": "2021-07-02T08:48:36.780070Z",
     "iopub.status.busy": "2021-07-02T08:48:36.780070Z",
     "iopub.status.idle": "2021-07-02T08:48:36.793038Z",
     "shell.execute_reply": "2021-07-02T08:48:36.792040Z",
     "shell.execute_reply.started": "2021-07-02T08:48:36.780070Z"
    },
    "tags": []
   },
   "outputs": [],
   "source": [
    "def api_json_to_csv_routeCd(api_name:str, key:str, download_dir:str) -> None:\n",
    "    params = {'key':key, 'type':'json'}\n",
    "    params_encode = parse.urlencode(params)\n",
    "    url = req_url + '?' + params_encode\n",
    "        \n",
    "    response = urllib.request.urlopen(url)\n",
    "    json_str = response.read().decode(\"utf-8\")\n",
    "    json_obj = json.loads(json_str)\n",
    "        \n",
    "    df = pd.json_normalize(json_obj['list'])\n",
    "        \n",
    "    execute_date=datetime.today().strftime(\"%y%m%d\")\n",
    "\n",
    "    file_name = f'{api_name}_{execute_date}.csv'\n",
    "    file_dir = os.path.join(download_dir, file_name)\n",
    "        \n",
    "    df.to_csv(file_dir)\n",
    "            \n",
    "    print(df)\n",
    "        \n",
    "    return None"
   ]
  },
  {
   "cell_type": "markdown",
   "metadata": {},
   "source": [
    "# RUN : Download JSON & Save to CSV"
   ]
  },
  {
   "cell_type": "markdown",
   "metadata": {},
   "source": [
    "useYn\tstring\t사용여부\n",
    "routeCd\tstring\t노선코드\n",
    "routeNm\tstring\t노선명\n",
    "routeNo\tstring\t노선번호\n",
    "stptDstnc\tstring\t기점이정\n",
    "edpntDstnc\tstring\t종점이정\n",
    "totExtnsDstne\tstring\t총연장거리"
   ]
  },
  {
   "cell_type": "code",
   "execution_count": 110,
   "metadata": {
    "execution": {
     "iopub.execute_input": "2021-07-02T08:47:21.490603Z",
     "iopub.status.busy": "2021-07-02T08:47:21.489576Z",
     "iopub.status.idle": "2021-07-02T08:47:21.503539Z",
     "shell.execute_reply": "2021-07-02T08:47:21.502542Z",
     "shell.execute_reply.started": "2021-07-02T08:47:21.490603Z"
    },
    "tags": []
   },
   "outputs": [],
   "source": [
    "req_url = 'http://data.ex.co.kr/openapi/roadEtcInfo/spinRouteList'"
   ]
  },
  {
   "cell_type": "code",
   "execution_count": 111,
   "metadata": {
    "execution": {
     "iopub.execute_input": "2021-07-02T08:47:22.057606Z",
     "iopub.status.busy": "2021-07-02T08:47:22.057606Z",
     "iopub.status.idle": "2021-07-02T08:47:22.064816Z",
     "shell.execute_reply": "2021-07-02T08:47:22.064816Z",
     "shell.execute_reply.started": "2021-07-02T08:47:22.057606Z"
    },
    "tags": []
   },
   "outputs": [],
   "source": [
    "api_name = 'routeCd'"
   ]
  },
  {
   "cell_type": "code",
   "execution_count": 112,
   "metadata": {
    "execution": {
     "iopub.execute_input": "2021-07-02T08:47:22.618646Z",
     "iopub.status.busy": "2021-07-02T08:47:22.618646Z",
     "iopub.status.idle": "2021-07-02T08:47:22.622637Z",
     "shell.execute_reply": "2021-07-02T08:47:22.622637Z",
     "shell.execute_reply.started": "2021-07-02T08:47:22.618646Z"
    },
    "tags": []
   },
   "outputs": [],
   "source": [
    "download_dir = ''"
   ]
  },
  {
   "cell_type": "code",
   "execution_count": 113,
   "metadata": {
    "execution": {
     "iopub.execute_input": "2021-07-02T08:47:23.084355Z",
     "iopub.status.busy": "2021-07-02T08:47:23.084355Z",
     "iopub.status.idle": "2021-07-02T08:47:23.090311Z",
     "shell.execute_reply": "2021-07-02T08:47:23.089342Z",
     "shell.execute_reply.started": "2021-07-02T08:47:23.084355Z"
    },
    "tags": []
   },
   "outputs": [],
   "source": [
    "key = '---'"
   ]
  },
  {
   "cell_type": "code",
   "execution_count": 122,
   "metadata": {
    "execution": {
     "iopub.execute_input": "2021-07-02T08:48:38.492458Z",
     "iopub.status.busy": "2021-07-02T08:48:38.492458Z",
     "iopub.status.idle": "2021-07-02T08:48:38.764834Z",
     "shell.execute_reply": "2021-07-02T08:48:38.764027Z",
     "shell.execute_reply.started": "2021-07-02T08:48:38.492458Z"
    },
    "tags": []
   },
   "outputs": [
    {
     "name": "stdout",
     "output_type": "stream",
     "text": [
      "    routeNo routeCd      routeNm stptDstnc edpntDstnc totExtnsDstne useYn\n",
      "0        12    6120  (조회용)88올림픽선   86.1600    86.1600         0.280     N\n",
      "1       255    2550        강진광주선    0.0000    51.1100        51.110     Y\n",
      "2         1    0010          경부선    0.0000   416.0500       418.790     Y\n",
      "3       120    1200          경인선    0.0000    23.8900        23.890     Y\n",
      "4       253    2530        고창담양선    0.0000    42.5000        42.500     Y\n",
      "..      ...     ...          ...       ...        ...           ...   ...\n",
      "106      17    0170        평택파주선    2.5800     2.5800         0.000     Y\n",
      "107      17    0171        평택화성선    2.5800     2.5800         0.000     Y\n",
      "108      14    0140        함양울산선    0.0000   144.6000       144.600     Y\n",
      "109      25    0251          호남선    0.0000   194.2200       194.220     Y\n",
      "110     251    2510      호남선의 지선    0.0000    53.9700        56.440     Y\n",
      "\n",
      "[111 rows x 7 columns]\n"
     ]
    }
   ],
   "source": [
    "api_json_to_csv_routeCd(api_name = api_name, key = key, download_dir = download_dir)"
   ]
  }
 ],
 "metadata": {
  "kernelspec": {
   "display_name": "Python 3",
   "language": "python",
   "name": "python3"
  },
  "language_info": {
   "codemirror_mode": {
    "name": "ipython",
    "version": 3
   },
   "file_extension": ".py",
   "mimetype": "text/x-python",
   "name": "python",
   "nbconvert_exporter": "python",
   "pygments_lexer": "ipython3",
   "version": "3.8.5"
  }
 },
 "nbformat": 4,
 "nbformat_minor": 4
}
