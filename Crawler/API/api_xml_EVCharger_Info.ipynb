{
 "cells": [
  {
   "cell_type": "markdown",
   "metadata": {},
   "source": [
    "# Info : EVChargerInfo API → XML → CSV \n",
    "* 한국환경공단 : 전기자동차 충전소 정보 XML 데이터 다운로드 코드\n",
    "* 로그인 후 인증키(key_encoding)를 받아야 합니다.\n",
    "* https://www.data.go.kr/data/15076352/openapi.do"
   ]
  },
  {
   "cell_type": "markdown",
   "metadata": {},
   "source": [
    "# Imports"
   ]
  },
  {
   "cell_type": "code",
   "execution_count": 34,
   "metadata": {
    "execution": {
     "iopub.execute_input": "2021-07-02T05:44:06.191211Z",
     "iopub.status.busy": "2021-07-02T05:44:06.190186Z",
     "iopub.status.idle": "2021-07-02T05:44:06.198164Z",
     "shell.execute_reply": "2021-07-02T05:44:06.197167Z",
     "shell.execute_reply.started": "2021-07-02T05:44:06.191211Z"
    },
    "tags": []
   },
   "outputs": [],
   "source": [
    "import requests, bs4\n",
    "import pandas as pd\n",
    "from lxml import html\n",
    "from urllib.request import Request, urlopen\n",
    "from urllib.parse import urlencode, quote_plus, unquote\n",
    "from datetime import datetime\n",
    "import os"
   ]
  },
  {
   "cell_type": "markdown",
   "metadata": {},
   "source": [
    "# Define Function"
   ]
  },
  {
   "cell_type": "code",
   "execution_count": 36,
   "metadata": {
    "execution": {
     "iopub.execute_input": "2021-07-02T05:45:10.259552Z",
     "iopub.status.busy": "2021-07-02T05:45:10.258515Z",
     "iopub.status.idle": "2021-07-02T05:45:10.277464Z",
     "shell.execute_reply": "2021-07-02T05:45:10.277464Z",
     "shell.execute_reply.started": "2021-07-02T05:45:10.259552Z"
    },
    "tags": []
   },
   "outputs": [],
   "source": [
    "def api_xml_to_csv(api_name:str, xmlurl:str, key:str, numOfRows:int, pageNo:int, download_dir:str) -> None:\n",
    "    for page in range(pageNo):\n",
    "        params = {'numOfRows': numOfRows, 'pageNo': page}\n",
    "        response = requests.get(xmlurl + key_encoding, params).text.encode('utf-8')\n",
    "        xmlobj = bs4.BeautifulSoup(response, 'lxml-xml')\n",
    "        rows = xmlobj.findAll('item')\n",
    "        \n",
    "        if len(rows) == 0:\n",
    "            break\n",
    "        \n",
    "        else : \n",
    "            rowList = []\n",
    "            nameList = []\n",
    "            columnList = []\n",
    "\n",
    "            rowsLen = len(rows)\n",
    "        \n",
    "            for i in range(0, rowsLen):\n",
    "                columns = rows[i].find_all()\n",
    "    \n",
    "                columnsLen = len(columns)\n",
    "                for j in range(0, columnsLen):\n",
    "        \n",
    "                    if i == 0:\n",
    "                        nameList.append(columns[j].name)\n",
    "                \n",
    "                    eachColumn = columns[j].text\n",
    "                    columnList.append(eachColumn)\n",
    "                rowList.append(columnList)\n",
    "                columnList = []\n",
    "    \n",
    "            execute_date=datetime.today().strftime(\"%y%m%d\")\n",
    "            result = pd.DataFrame(rowList, columns = nameList)\n",
    "            \n",
    "            if (page >= 0 & page <= 9) :\n",
    "                file_number = '000' + str(page)\n",
    "            elif (page >= 10 & page <= 99) :\n",
    "                file_number = '00' + str(page)\n",
    "            elif (page >= 100 & page <= 999) :\n",
    "                file_number = '0' + str(page)\n",
    "            else :\n",
    "                file_number = str(page)\n",
    "                \n",
    "            file_name = f'{api_name}_{file_number}_{execute_date}.csv'\n",
    "            file_dir = os.path.join(download_dir, file_name)\n",
    "        \n",
    "            result.to_csv(file_dir)"
   ]
  },
  {
   "cell_type": "markdown",
   "metadata": {},
   "source": [
    "# Download XML & Save to CSV"
   ]
  },
  {
   "cell_type": "code",
   "execution_count": 37,
   "metadata": {
    "execution": {
     "iopub.execute_input": "2021-07-02T05:45:11.240252Z",
     "iopub.status.busy": "2021-07-02T05:45:11.239255Z",
     "iopub.status.idle": "2021-07-02T05:45:11.243005Z",
     "shell.execute_reply": "2021-07-02T05:45:11.243005Z",
     "shell.execute_reply.started": "2021-07-02T05:45:11.240252Z"
    },
    "tags": []
   },
   "outputs": [],
   "source": [
    "api_name = 'EvChargerInfo'"
   ]
  },
  {
   "cell_type": "code",
   "execution_count": 38,
   "metadata": {
    "execution": {
     "iopub.execute_input": "2021-07-02T05:45:11.823282Z",
     "iopub.status.busy": "2021-07-02T05:45:11.823282Z",
     "iopub.status.idle": "2021-07-02T05:45:11.835928Z",
     "shell.execute_reply": "2021-07-02T05:45:11.834922Z",
     "shell.execute_reply.started": "2021-07-02T05:45:11.823282Z"
    },
    "tags": []
   },
   "outputs": [],
   "source": [
    "xmlurl = 'http://apis.data.go.kr/B552584/EvCharger/getChargerInfo?serviceKey='"
   ]
  },
  {
   "cell_type": "code",
   "execution_count": 39,
   "metadata": {
    "execution": {
     "iopub.execute_input": "2021-07-02T05:45:12.385182Z",
     "iopub.status.busy": "2021-07-02T05:45:12.385182Z",
     "iopub.status.idle": "2021-07-02T05:45:12.397229Z",
     "shell.execute_reply": "2021-07-02T05:45:12.397229Z",
     "shell.execute_reply.started": "2021-07-02T05:45:12.385182Z"
    },
    "tags": []
   },
   "outputs": [],
   "source": [
    "key_encoding = '-' "
   ]
  },
  {
   "cell_type": "code",
   "execution_count": 40,
   "metadata": {
    "execution": {
     "iopub.execute_input": "2021-07-02T05:45:12.926287Z",
     "iopub.status.busy": "2021-07-02T05:45:12.926287Z",
     "iopub.status.idle": "2021-07-02T05:45:12.942245Z",
     "shell.execute_reply": "2021-07-02T05:45:12.942245Z",
     "shell.execute_reply.started": "2021-07-02T05:45:12.926287Z"
    },
    "tags": []
   },
   "outputs": [],
   "source": [
    "download_dir = ''"
   ]
  },
  {
   "cell_type": "code",
   "execution_count": 41,
   "metadata": {
    "execution": {
     "iopub.execute_input": "2021-07-02T05:45:13.479168Z",
     "iopub.status.busy": "2021-07-02T05:45:13.479168Z",
     "iopub.status.idle": "2021-07-02T05:45:13.488144Z",
     "shell.execute_reply": "2021-07-02T05:45:13.488144Z",
     "shell.execute_reply.started": "2021-07-02T05:45:13.479168Z"
    },
    "tags": []
   },
   "outputs": [],
   "source": [
    "numOfRows = 9999\n",
    "pageNo = 100"
   ]
  },
  {
   "cell_type": "code",
   "execution_count": 42,
   "metadata": {
    "execution": {
     "iopub.execute_input": "2021-07-02T05:45:14.207767Z",
     "iopub.status.busy": "2021-07-02T05:45:14.207767Z",
     "iopub.status.idle": "2021-07-02T05:46:04.142385Z",
     "shell.execute_reply": "2021-07-02T05:46:04.142385Z",
     "shell.execute_reply.started": "2021-07-02T05:45:14.207767Z"
    },
    "tags": []
   },
   "outputs": [],
   "source": [
    "api_xml_to_csv(api_name = api_name, xmlurl = xmlurl, key = key_encoding,\n",
    "               numOfRows = numOfRows, pageNo = pageNo, download_dir = download_dir)"
   ]
  }
 ],
 "metadata": {
  "kernelspec": {
   "display_name": "Python 3",
   "language": "python",
   "name": "python3"
  },
  "language_info": {
   "codemirror_mode": {
    "name": "ipython",
    "version": 3
   },
   "file_extension": ".py",
   "mimetype": "text/x-python",
   "name": "python",
   "nbconvert_exporter": "python",
   "pygments_lexer": "ipython3",
   "version": "3.8.5"
  }
 },
 "nbformat": 4,
 "nbformat_minor": 4
}
