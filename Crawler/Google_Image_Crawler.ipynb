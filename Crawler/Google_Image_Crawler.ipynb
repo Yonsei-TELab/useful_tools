{
 "cells": [
  {
   "cell_type": "markdown",
   "metadata": {},
   "source": [
    "# Google Image Crawler\n",
    "* 알림사항 : 2021년 5월 갱신된 코드입니다.\n",
    "* 검색엔진 : Google\n",
    "    * 입력 : **`키워드`**, **`최대 다운로드 개수`**\n",
    "    * 결과 :\n",
    "        * 지정된 키워드로 검색된 이미지들\n",
    "        * 결과 파일 위치 : 지정된 경로, `키워드_다운로드연월일_다운로드시각` 폴더"
   ]
  },
  {
   "cell_type": "markdown",
   "metadata": {},
   "source": [
    "# Imports"
   ]
  },
  {
   "cell_type": "code",
   "execution_count": 1,
   "metadata": {
    "execution": {
     "iopub.execute_input": "2021-05-20T15:02:17.253007Z",
     "iopub.status.busy": "2021-05-20T15:02:17.252010Z",
     "iopub.status.idle": "2021-05-20T15:02:17.534935Z",
     "shell.execute_reply": "2021-05-20T15:02:17.534935Z",
     "shell.execute_reply.started": "2021-05-20T15:02:17.253007Z"
    },
    "tags": []
   },
   "outputs": [],
   "source": [
    "from icrawler.builtin import GoogleImageCrawler\n",
    "import os #> 폴더 관리\n",
    "from datetime import datetime"
   ]
  },
  {
   "cell_type": "markdown",
   "metadata": {},
   "source": [
    "# Define Functions\n",
    "* **`GOogle_img_crawler()`** : Google에서 이미지를 자동으로 다운로드"
   ]
  },
  {
   "cell_type": "code",
   "execution_count": 2,
   "metadata": {
    "execution": {
     "iopub.execute_input": "2021-05-20T15:02:18.855219Z",
     "iopub.status.busy": "2021-05-20T15:02:18.855219Z",
     "iopub.status.idle": "2021-05-20T15:02:18.871175Z",
     "shell.execute_reply": "2021-05-20T15:02:18.869184Z",
     "shell.execute_reply.started": "2021-05-20T15:02:18.855219Z"
    },
    "tags": []
   },
   "outputs": [],
   "source": [
    "def Google_img_crawler(search_keyword:str, max_number:int) -> None:\n",
    "    \"\"\"구글에서 지정된 키워드의 이미지를 자동 다운로드하는 함수\n",
    "    ::search_keyword:: 검색 키워드(문자열)\n",
    "    ::max_number:: 다운로드 받을 최대 이미지 개수\"\"\"\n",
    "    \n",
    "    execute_date = datetime.today().strftime(\"%y%m%d\")\n",
    "    execute_time = datetime.today().strftime(\"%H%M%S\")\n",
    "    \n",
    "    default_dir = 'E:/git_github_regenesis90/Python_JupyterLab/downloads/images'\n",
    "    folder_name = f'{search_keyword}_{execute_date}_{execute_time}'\n",
    "    download_dir = os.path.join(default_dir, folder_name)\n",
    "    \n",
    "    if not os.path.exists(download_dir):\n",
    "        os.makedirs(download_dir)\n",
    "    \n",
    "    google_crawler = GoogleImageCrawler(\n",
    "        feeder_threads=1,\n",
    "        parser_threads=2,\n",
    "        downloader_threads=4,\n",
    "        storage={'root_dir': download_dir})\n",
    "    \n",
    "    #filters = dict(\n",
    "        #size = 'large',\n",
    "        #color = 'orange',\n",
    "        #license = 'commercial, modify',\n",
    "        #date = ((2017, 1, 1), (2017, 11, 30))) # 주석 처리 제거 후 필터 적용 가능합니다\n",
    "    \n",
    "    google_crawler.crawl(keyword = search_keyword, max_num = max_number, file_idx_offset=0)"
   ]
  },
  {
   "cell_type": "markdown",
   "metadata": {},
   "source": [
    "# RUN!"
   ]
  },
  {
   "cell_type": "code",
   "execution_count": 3,
   "metadata": {
    "execution": {
     "iopub.execute_input": "2021-05-20T15:02:22.797791Z",
     "iopub.status.busy": "2021-05-20T15:02:22.797791Z",
     "iopub.status.idle": "2021-05-20T15:02:39.250064Z",
     "shell.execute_reply": "2021-05-20T15:02:39.249068Z",
     "shell.execute_reply.started": "2021-05-20T15:02:22.797791Z"
    },
    "tags": []
   },
   "outputs": [
    {
     "name": "stdin",
     "output_type": "stream",
     "text": [
      "검색어:  ragdoll cat\n",
      "다운로드 받을 이미지 최대 개수:  15\n"
     ]
    },
    {
     "name": "stderr",
     "output_type": "stream",
     "text": [
      "2021-05-21 00:02:27,087 - INFO - icrawler.crawler - start crawling...\n",
      "2021-05-21 00:02:27,090 - INFO - icrawler.crawler - starting 1 feeder threads...\n",
      "2021-05-21 00:02:27,091 - INFO - feeder - thread feeder-001 exit\n",
      "2021-05-21 00:02:27,094 - INFO - icrawler.crawler - starting 2 parser threads...\n",
      "2021-05-21 00:02:27,096 - INFO - icrawler.crawler - starting 4 downloader threads...\n",
      "2021-05-21 00:02:28,092 - INFO - parser - parsing result page https://www.google.com/search?q=ragdoll+cat&ijn=0&start=0&tbs=&tbm=isch\n",
      "2021-05-21 00:02:28,350 - INFO - downloader - image #1\thttps://i.pinimg.com/originals/5b/c1/ac/5bc1ac69c5a043191bae9c3eba2cf55d.jpg\n",
      "2021-05-21 00:02:28,447 - INFO - downloader - image #2\thttps://www.catster.com/wp-content/uploads/2018/01/Ragdoll-cat-on-blue-backdrop-.jpg\n",
      "2021-05-21 00:02:28,531 - INFO - downloader - image #3\thttps://upload.wikimedia.org/wikipedia/commons/6/64/Ragdoll_from_Gatil_Ragbelas.jpg\n",
      "2021-05-21 00:02:28,531 - ERROR - downloader - Response status code 400, file https://www.thesprucepets.com/thmb/9bwXlB8NpaP7LmCO6j4qFZ9kSyw\\u003d/4677x3508/smart/filters:no_upscale()/ragdoll-cat-lying-down--portrait-579000275-5c868f0146e0fb00015f8fbf.jpg\n",
      "2021-05-21 00:02:28,555 - INFO - downloader - image #4\thttps://i.pinimg.com/736x/2a/d8/99/2ad899c99b170ae986bb7b2cfc559849.jpg\n",
      "2021-05-21 00:02:28,559 - INFO - downloader - image #5\thttps://cf.ltkcdn.net/cats/images/orig/246639-1600x1030-ragdoll-cats-cost.jpg\n",
      "2021-05-21 00:02:28,647 - INFO - downloader - image #6\thttps://cdn.shopify.com/s/files/1/1088/7528/articles/6670edd5ab4bbc9e61a335bea85b2004_1600x.jpg\n",
      "2021-05-21 00:02:29,108 - INFO - parser - no more page urls for thread parser-002 to parse\n",
      "2021-05-21 00:02:29,111 - INFO - parser - thread parser-002 exit\n",
      "2021-05-21 00:02:29,378 - INFO - downloader - image #7\thttps://cdn.hswstatic.com/gif/ragdoll-cat-1.jpg\n",
      "2021-05-21 00:02:29,431 - INFO - downloader - image #8\thttps://ragdolllove.com/wp-content/uploads/2019/03/Duff-and-ZeeZee-August-2017-Original-Image-1024x860.jpg\n",
      "2021-05-21 00:02:29,920 - INFO - downloader - image #9\thttps://33oezn10chdvlfeziep11ae7-wpengine.netdna-ssl.com/wp-content/uploads/2020/08/Seal-Mitted-Ragdoll-Cat-Caymus-on-chair-IMG_4524-scaled.jpg\n",
      "2021-05-21 00:02:30,010 - INFO - downloader - image #10\thttps://www.rover.com/blog/wp-content/uploads/2019/06/96467175_s-848x540.jpg\n",
      "2021-05-21 00:02:30,066 - INFO - downloader - image #11\thttps://excitedcats.com/wp-content/uploads/2020/11/Fluffy-Ragdoll_Shutterstock_Serita-Vossen.jpg\n",
      "2021-05-21 00:02:30,347 - INFO - downloader - image #12\thttps://www.petplace.com/static/2c041b98886e369cd0da395ede5e56a3/c23ac/shutterstock_671170645.jpg\n",
      "2021-05-21 00:02:30,395 - ERROR - downloader - Response status code 400, file https://www.thesprucepets.com/thmb/qgOiKyV_eK_tbodGqY8KVTIUVjo\\u003d/1350x1080/filters:no_upscale():max_bytes(150000):strip_icc()/57331730_278800056362018_1622656382499785161_n-709a27108eb144e384e6732282a16e32.jpg\n",
      "2021-05-21 00:02:30,479 - ERROR - downloader - Response status code 500, file https://vetstreet.brightspotcdn.com/dims4/default/d6b5fd9/2147483647/crop/0x0%2B0%2B0/resize/645x380/quality/90/?url\\u003dhttps%3A%2F%2Fvetstreet-brightspot.s3.amazonaws.com%2Fbf%2Ffcaf70a33411e087a80050568d634f%2Ffile%2FRagdoll-4-645mk062211.jpg\n",
      "2021-05-21 00:02:30,553 - INFO - downloader - image #13\thttps://uk.mypetandi.com/sites/g/files/adhwdz331/files/styles/paragraph_image/public/2018-03/ragdoll_cat_01401.jpg\n",
      "2021-05-21 00:02:31,268 - INFO - downloader - image #14\thttps://www.riverbark.com/sites/default/files/styles/large/public/ragdoll-cat-breed-info.jpg\n",
      "2021-05-21 00:02:31,574 - INFO - downloader - image #15\thttps://vetwork.co/galaxy/wp-content/uploads/Ragdoll-cat-2-640x400.jpg\n",
      "2021-05-21 00:02:32,102 - INFO - downloader - downloaded images reach max num, thread downloader-002 is ready to exit\n",
      "2021-05-21 00:02:32,103 - INFO - downloader - thread downloader-002 exit\n",
      "2021-05-21 00:02:32,164 - INFO - downloader - downloaded images reach max num, thread downloader-004 is ready to exit\n",
      "2021-05-21 00:02:32,164 - INFO - downloader - thread downloader-004 exit\n",
      "2021-05-21 00:02:32,231 - INFO - downloader - downloaded images reach max num, thread downloader-001 is ready to exit\n",
      "2021-05-21 00:02:32,231 - INFO - downloader - thread downloader-001 exit\n",
      "2021-05-21 00:02:33,590 - INFO - parser - downloaded image reached max num, thread parser-001 is ready to exit\n",
      "2021-05-21 00:02:33,594 - INFO - parser - thread parser-001 exit\n",
      "2021-05-21 00:02:38,893 - INFO - downloader - downloaded images reach max num, thread downloader-003 is ready to exit\n",
      "2021-05-21 00:02:38,894 - INFO - downloader - thread downloader-003 exit\n",
      "2021-05-21 00:02:39,203 - INFO - icrawler.crawler - Crawling task done!\n"
     ]
    }
   ],
   "source": [
    "search_keyword = input('검색어: ')\n",
    "max_number = int(input('다운로드 받을 이미지 최대 개수: '))\n",
    "Google_img_crawler(search_keyword, max_number)"
   ]
  }
 ],
 "metadata": {
  "kernelspec": {
   "display_name": "Python 3",
   "language": "python",
   "name": "python3"
  },
  "language_info": {
   "codemirror_mode": {
    "name": "ipython",
    "version": 3
   },
   "file_extension": ".py",
   "mimetype": "text/x-python",
   "name": "python",
   "nbconvert_exporter": "python",
   "pygments_lexer": "ipython3",
   "version": "3.8.5"
  }
 },
 "nbformat": 4,
 "nbformat_minor": 4
}
