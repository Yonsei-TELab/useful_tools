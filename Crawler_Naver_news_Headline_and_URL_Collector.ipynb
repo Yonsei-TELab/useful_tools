{
 "cells": [
  {
   "cell_type": "markdown",
   "metadata": {},
   "source": [
    "# Naver News Headline & URL Collector\n",
    "\n",
    "* **`알림사항`** : 2021년 5월을 기준으로 생성된 코드입니다!\n",
    "\n",
    "* 검색엔진 : **네이버 뉴스(최신순)**\n",
    "* 입력 : **`키워드`**, **`페이지 수`**\n",
    "* 결과 :\n",
    "    * 콘솔 출력 & **`뉴스 헤드라인`**, **`언론사`**, **`기사 URL`** 이 정리된 **`.csv`** 파일\n",
    "    * 결과 파일 위치 : 지정된 경로, 'bs'폴더의 'naver'폴더 내부\n",
    "    * 결과 파일 이름 : `naver_news_recent_키워드_연월일.csv`"
   ]
  },
  {
   "cell_type": "markdown",
   "metadata": {},
   "source": [
    "# Imports\n",
    "* 없는 패키지는`!pip install`을 사용하여 설치해 줍니다."
   ]
  },
  {
   "cell_type": "code",
   "execution_count": 1,
   "metadata": {
    "execution": {
     "iopub.execute_input": "2021-05-20T14:13:52.562709Z",
     "iopub.status.busy": "2021-05-20T14:13:52.561675Z",
     "iopub.status.idle": "2021-05-20T14:13:53.103096Z",
     "shell.execute_reply": "2021-05-20T14:13:53.101061Z",
     "shell.execute_reply.started": "2021-05-20T14:13:52.561675Z"
    }
   },
   "outputs": [],
   "source": [
    "import requests\n",
    "from bs4 import BeautifulSoup\n",
    "import csv #> csv 파일 처리\n",
    "import os\n",
    "from datetime import datetime"
   ]
  },
  {
   "cell_type": "markdown",
   "metadata": {},
   "source": [
    "# Define Functions\n",
    "* 필요한 함수 정의\n",
    "* **`naver_news_recent_page_url()`** : 네이버 뉴스 검색란의 키워드, 페이지별 URL 수집\n",
    "* **`naver_news_search_recent_by_pages()`** : 뉴스 크롤링 & 저장 & 콘솔 출력"
   ]
  },
  {
   "cell_type": "code",
   "execution_count": 2,
   "metadata": {
    "execution": {
     "iopub.execute_input": "2021-05-20T14:13:53.105975Z",
     "iopub.status.busy": "2021-05-20T14:13:53.105132Z",
     "iopub.status.idle": "2021-05-20T14:13:53.118431Z",
     "shell.execute_reply": "2021-05-20T14:13:53.116432Z",
     "shell.execute_reply.started": "2021-05-20T14:13:53.105975Z"
    },
    "tags": []
   },
   "outputs": [],
   "source": [
    "def naver_news_recent_page_url(keyword:str, pages:int) -> list:\n",
    "    \"\"\"네이버 뉴스 검색란의 keyword, page별 URL 수집하는 함수\"\"\"\n",
    "    \n",
    "    urls = []\n",
    "    startpage = (pages - 1) * 10 + 1\n",
    "    \n",
    "    for page in range(1, pages + 1):\n",
    "        url = f'https://search.naver.com/search.naver?where=news&query={keyword}&sm=tab_srt&sort=1&photo=0&field=0&reporter_article=&pd=0&ds=&de=&docid=&nso=so%3Add%2Cp%3Aall%2Ca%3Aall&mynews=0&refresh_start={startpage}&related=0'\n",
    "        urls.append(url)\n",
    "        \n",
    "    return urls"
   ]
  },
  {
   "cell_type": "code",
   "execution_count": 3,
   "metadata": {
    "execution": {
     "iopub.execute_input": "2021-05-20T14:13:53.125516Z",
     "iopub.status.busy": "2021-05-20T14:13:53.123416Z",
     "iopub.status.idle": "2021-05-20T14:13:53.158353Z",
     "shell.execute_reply": "2021-05-20T14:13:53.155366Z",
     "shell.execute_reply.started": "2021-05-20T14:13:53.125516Z"
    },
    "tags": []
   },
   "outputs": [],
   "source": [
    "def naver_news_search_recent_by_pages(urls:list) -> None:\n",
    "    \"\"\"네이버 뉴스 검색란에 키워드(keyword), 페이지 수(pages)를 입력하여,\n",
    "    검색된 최신 뉴스의 헤드라인과 URL, 언론사 크롤링 후\n",
    "    'bs'폴더의 'naver'폴더 내에 'naver_news_recent_키워드_연월일.csv'로 저장,\n",
    "    콘솔에도 출력\"\"\"\n",
    "    \n",
    "    naver_news_list = []\n",
    "    press_list = []\n",
    "    \n",
    "    selector_headline = 'ul.list_news div > div.news_area > a'\n",
    "    selector_press = 'div.news_info > div.info_group > a.info.press'\n",
    "\n",
    "    for page, url in enumerate(urls):\n",
    "        response = requests.get(url)\n",
    "        \n",
    "        if response.ok:\n",
    "            html = response.text.strip()\n",
    "            soup = BeautifulSoup(markup=html, features='html5lib')\n",
    "            headlines = soup.select(selector_headline)\n",
    "            press_names = soup.select(selector_press)\n",
    "            \n",
    "            for press in press_names:\n",
    "                press_list.append(press.text)\n",
    "                \n",
    "            for i,headline in enumerate(headlines):\n",
    "                naver_news_list.append([headline.text.strip(), press_list[i], headline['href']])\n",
    "                print(f'[{(page)*10 + i + 1}]{headline.text.strip()} - {press_list[i]} : {headline[\"href\"]}')\n",
    "                \n",
    "    execute_date=datetime.today().strftime(\"%y%m%d\")\n",
    "    execute_time=datetime.today().strftime(\"%H%M%S\")\n",
    "    \n",
    "    # .csv 파일 저장 경로 설정\n",
    "    default_dir = 'E:/git_github_regenesis90/Python_JupyterLab/downloads/bs/'\n",
    "    folder_name = f'naver_news_recent_{keyword}'\n",
    "    download_dir = os.path.join(default_dir, folder_name)\n",
    "    \n",
    "    if not os.path.exists(download_dir):\n",
    "        os.makedirs(download_dir) #> 저장할 경로가 없으면, 폴더를 만들어 주는 명령어\n",
    "    \n",
    "    with open(file = f'{download_dir}/naver_news_recent_{keyword}_{execute_date}_{execute_time}.csv', mode='w', encoding='UTF-8', newline='') as f: #> 지정된 경로와 파일이름으로 .csv 저장\n",
    "        writer=csv.writer(f)\n",
    "        writer.writerow([\"Headline\", \"Press\", \"URL\"])\n",
    "        writer.writerows(naver_news_list)"
   ]
  },
  {
   "cell_type": "code",
   "execution_count": 4,
   "metadata": {
    "execution": {
     "iopub.execute_input": "2021-05-20T14:13:53.163342Z",
     "iopub.status.busy": "2021-05-20T14:13:53.161820Z",
     "iopub.status.idle": "2021-05-20T14:13:53.232461Z",
     "shell.execute_reply": "2021-05-20T14:13:53.230469Z",
     "shell.execute_reply.started": "2021-05-20T14:13:53.163342Z"
    },
    "tags": []
   },
   "outputs": [],
   "source": [
    "def naver_news_search_recent(keyword:str, pages:int):\n",
    "    naver_news_search_recent_by_pages(naver_news_recent_page_url(keyword, pages))"
   ]
  },
  {
   "cell_type": "markdown",
   "metadata": {},
   "source": [
    "# RUN! \n",
    "* 검색을 원하는 키워드와 페이지 수를 입력해 주세요"
   ]
  },
  {
   "cell_type": "code",
   "execution_count": 5,
   "metadata": {
    "execution": {
     "iopub.execute_input": "2021-05-20T14:13:53.235941Z",
     "iopub.status.busy": "2021-05-20T14:13:53.234455Z",
     "iopub.status.idle": "2021-05-20T14:14:06.710693Z",
     "shell.execute_reply": "2021-05-20T14:14:06.706745Z",
     "shell.execute_reply.started": "2021-05-20T14:13:53.235941Z"
    },
    "tags": []
   },
   "outputs": [
    {
     "name": "stdin",
     "output_type": "stream",
     "text": [
      "키워드 입력:  로또\n",
      "페이지 수 입력:  3\n"
     ]
    },
    {
     "name": "stdout",
     "output_type": "stream",
     "text": [
      "[1][경제뭐니] ‘로또 아파트’ 대책…재개발 단지에선 왜? - KBS : https://news.kbs.co.kr/news/view.do?ncd=5190485&ref=A\n",
      "[2]세종-세종 한전까지 특공혜택…혜택만 받고 퇴직까지 - 한국경제TV : http://www.wowtv.co.kr/NewsCenter/News/Read?articleId=A202105200381&t=NN\n",
      "[3]한전도 '로또 특혜' 논란…세종→세종 �ケ穗� 데 특공 - 에너지경제 : https://www.ekn.kr/web/view.php?key=20210520010004018\n",
      "[4][경제뭐니] ‘로또 아파트’ 대책…재개발 단지에선 왜? - KBS : https://news.kbs.co.kr/news/view.do?ncd=5190322&ref=A\n",
      "[5]전북에 상륙한 미국복권 '약 인가? 독 인가?' - 전북도민일보 : http://www.domin.co.kr/news/articleView.html?idxno=1340778\n",
      "[6]세종→세종 이전하는데도 '특공'…시민들 \"공무원 돈벌이 수단\" - 중앙일보 : https://news.joins.com/article/olink/23657423\n",
      "[7]세종→세종 옮긴 한전지사도 특공…분양만 받고 관둔 직원도 - 중앙일보 : https://news.joins.com/article/olink/23657420\n",
      "[8]세종에서 세종으로 옮겼는데도 특공…한전 직원도 ‘특공 특혜’ 논란 - 헤럴드경제 : http://news.heraldcorp.com/view.php?ud=20210520000944\n",
      "[9]세종에서 세종으로 옮겼는데도 특공…한전도 '특공 특혜' 논란(종합) - 연합뉴스언론사 선정 : http://yna.kr/AKR20210520163000003?did=1195m\n",
      "[10]연금복권 720 55회 당첨결과확인 및 당첨금액 정보 - 톱스타뉴스 : http://www.topstarnews.net/news/articleView.html?idxno=7024505\n",
      "[11][경제뭐니] ‘로또 아파트’ 대책…재개발 단지에선 왜? - KBS : https://news.kbs.co.kr/news/view.do?ncd=5190485&ref=A\n",
      "[12]세종-세종 한전까지 특공혜택…혜택만 받고 퇴직까지 - 한국경제TV : http://www.wowtv.co.kr/NewsCenter/News/Read?articleId=A202105200381&t=NN\n",
      "[13]한전도 '로또 특혜' 논란…세종→세종 �ケ穗� 데 특공 - 에너지경제 : https://www.ekn.kr/web/view.php?key=20210520010004018\n",
      "[14][경제뭐니] ‘로또 아파트’ 대책…재개발 단지에선 왜? - KBS : https://news.kbs.co.kr/news/view.do?ncd=5190322&ref=A\n",
      "[15]전북에 상륙한 미국복권 '약 인가? 독 인가?' - 전북도민일보 : http://www.domin.co.kr/news/articleView.html?idxno=1340778\n",
      "[16]세종→세종 이전하는데도 '특공'…시민들 \"공무원 돈벌이 수단\" - 중앙일보 : https://news.joins.com/article/olink/23657423\n",
      "[17]세종→세종 옮긴 한전지사도 특공…분양만 받고 관둔 직원도 - 중앙일보 : https://news.joins.com/article/olink/23657420\n",
      "[18]세종에서 세종으로 옮겼는데도 특공…한전 직원도 ‘특공 특혜’ 논란 - 헤럴드경제 : http://news.heraldcorp.com/view.php?ud=20210520000944\n",
      "[19]세종에서 세종으로 옮겼는데도 특공…한전도 '특공 특혜' 논란(종합) - 연합뉴스언론사 선정 : http://yna.kr/AKR20210520163000003?did=1195m\n",
      "[20]연금복권 720 55회 당첨결과확인 및 당첨금액 정보 - 톱스타뉴스 : http://www.topstarnews.net/news/articleView.html?idxno=7024505\n",
      "[21][경제뭐니] ‘로또 아파트’ 대책…재개발 단지에선 왜? - KBS : https://news.kbs.co.kr/news/view.do?ncd=5190485&ref=A\n",
      "[22]세종-세종 한전까지 특공혜택…혜택만 받고 퇴직까지 - 한국경제TV : http://www.wowtv.co.kr/NewsCenter/News/Read?articleId=A202105200381&t=NN\n",
      "[23]한전도 '로또 특혜' 논란…세종→세종 �ケ穗� 데 특공 - 에너지경제 : https://www.ekn.kr/web/view.php?key=20210520010004018\n",
      "[24][경제뭐니] ‘로또 아파트’ 대책…재개발 단지에선 왜? - KBS : https://news.kbs.co.kr/news/view.do?ncd=5190322&ref=A\n",
      "[25]전북에 상륙한 미국복권 '약 인가? 독 인가?' - 전북도민일보 : http://www.domin.co.kr/news/articleView.html?idxno=1340778\n",
      "[26]세종→세종 이전하는데도 '특공'…시민들 \"공무원 돈벌이 수단\" - 중앙일보 : https://news.joins.com/article/olink/23657423\n",
      "[27]세종→세종 옮긴 한전지사도 특공…분양만 받고 관둔 직원도 - 중앙일보 : https://news.joins.com/article/olink/23657420\n",
      "[28]세종에서 세종으로 옮겼는데도 특공…한전 직원도 ‘특공 특혜’ 논란 - 헤럴드경제 : http://news.heraldcorp.com/view.php?ud=20210520000944\n",
      "[29]세종에서 세종으로 옮겼는데도 특공…한전도 '특공 특혜' 논란(종합) - 연합뉴스언론사 선정 : http://yna.kr/AKR20210520163000003?did=1195m\n",
      "[30]연금복권 720 55회 당첨결과확인 및 당첨금액 정보 - 톱스타뉴스 : http://www.topstarnews.net/news/articleView.html?idxno=7024505\n"
     ]
    }
   ],
   "source": [
    "keyword = input('키워드 입력: ')\n",
    "pages = int(input('페이지 수 입력: '))\n",
    "naver_news_search_recent(keyword, pages)"
   ]
  }
 ],
 "metadata": {
  "kernelspec": {
   "display_name": "Python 3",
   "language": "python",
   "name": "python3"
  },
  "language_info": {
   "codemirror_mode": {
    "name": "ipython",
    "version": 3
   },
   "file_extension": ".py",
   "mimetype": "text/x-python",
   "name": "python",
   "nbconvert_exporter": "python",
   "pygments_lexer": "ipython3",
   "version": "3.8.5"
  }
 },
 "nbformat": 4,
 "nbformat_minor": 4
}
